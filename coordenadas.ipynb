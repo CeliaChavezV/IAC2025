{
 "cells": [
  {
   "cell_type": "code",
   "execution_count": 2,
   "metadata": {},
   "outputs": [
    {
     "name": "stdout",
     "output_type": "stream",
     "text": [
      "   frame  site  drive  pose  landing_x  landing_y  landing_z    northing  \\\n",
      "0   SITE     1     -1    -1        0.0        0.0        0.0 -272039.268   \n",
      "1  ROVER     1      0     0        0.0        0.0        0.0 -272039.268   \n",
      "2  ROVER     1      2    -1        0.0        0.0        0.0 -272039.268   \n",
      "3  ROVER     1      4    -1        0.0        0.0        0.0 -272039.268   \n",
      "4  ROVER     1      6    -1        0.0        0.0        0.0 -272039.268   \n",
      "\n",
      "       easting  planetocentric_latitude  ...  dem_pixel_sample   roll  pitch  \\\n",
      "0  8146811.223                -4.589467  ...           5773.73  0.000 -0.000   \n",
      "1  8146811.223                -4.589467  ...           5773.73 -2.414 -3.612   \n",
      "2  8146811.223                -4.589467  ...           5773.73  0.000 -0.000   \n",
      "3  8146811.223                -4.589467  ...           5773.73 -2.414 -3.612   \n",
      "4  8146811.223                -4.589467  ...           5773.73 -2.414 -3.612   \n",
      "\n",
      "       yaw    quat_s   quat_v1   quat_v2   quat_v3       sclk  sol  \n",
      "0    0.000  1.000000  0.000000  0.000000  0.000000          0   -1  \n",
      "1  112.722  0.554112  0.014572 -0.034982  0.831579  397502188    0  \n",
      "2    0.000  1.000000  0.000000  0.000000  0.000000  397504952    0  \n",
      "3  112.722  0.554112  0.014572 -0.034982  0.831579  397504957    0  \n",
      "4  112.722  0.554112  0.014572 -0.034982  0.831579  397505419    0  \n",
      "\n",
      "[5 rows x 26 columns]\n",
      "Index(['frame', 'site', 'drive', 'pose', 'landing_x', 'landing_y', 'landing_z',\n",
      "       'northing', 'easting', 'planetocentric_latitude',\n",
      "       'planetodetic_latitude', 'longitude', 'elevation', 'map_pixel_line',\n",
      "       'map_pixel_sample', 'dem_pixel_line', 'dem_pixel_sample', 'roll',\n",
      "       'pitch', 'yaw', 'quat_s', 'quat_v1', 'quat_v2', 'quat_v3', 'sclk',\n",
      "       'sol'],\n",
      "      dtype='object')\n"
     ]
    }
   ],
   "source": [
    "import pandas as pd\n",
    "\n",
    "# Cargar el archivo CSV con los datos del Curiosity\n",
    "df = pd.read_csv(\"localized_interp.csv\")\n",
    "\n",
    "# Mostrar las primeras filas para entender la estructura\n",
    "print(df.head())\n",
    "\n",
    "print(df.columns)#verificar que nombres de columnas coinciden\n",
    "\n"
   ]
  },
  {
   "cell_type": "code",
   "execution_count": 3,
   "metadata": {},
   "outputs": [
    {
     "name": "stdout",
     "output_type": "stream",
     "text": [
      "        sol  planetocentric_latitude  planetodetic_latitude   longitude  \\\n",
      "0        -1                -4.589467              -4.643738  137.441633   \n",
      "1         0                -4.589467              -4.643738  137.441633   \n",
      "2         0                -4.589467              -4.643738  137.441633   \n",
      "3         0                -4.589467              -4.643738  137.441633   \n",
      "4         0                -4.589467              -4.643738  137.441633   \n",
      "...     ...                      ...                    ...         ...   \n",
      "43224  4307                -4.786800              -4.843382  137.407631   \n",
      "43225  4307                -4.786801              -4.843384  137.407629   \n",
      "43226  4309                -4.786798              -4.843381  137.407633   \n",
      "43227  4309                -4.786795              -4.843377  137.407636   \n",
      "43228  4309                -4.786791              -4.843374  137.407640   \n",
      "\n",
      "       elevation  \n",
      "0      -4501.040  \n",
      "1      -4501.040  \n",
      "2      -4501.040  \n",
      "3      -4501.040  \n",
      "4      -4501.040  \n",
      "...          ...  \n",
      "43224  -3689.045  \n",
      "43225  -3689.000  \n",
      "43226  -3689.016  \n",
      "43227  -3689.038  \n",
      "43228  -3689.070  \n",
      "\n",
      "[43229 rows x 5 columns]\n",
      "      sol  planetocentric_latitude  planetodetic_latitude   longitude  \\\n",
      "972   125                -4.589865              -4.644141  137.449277   \n",
      "973   125                -4.589865              -4.644141  137.449278   \n",
      "974   125                -4.589865              -4.644141  137.449278   \n",
      "975   125                -4.589862              -4.644138  137.449290   \n",
      "976   125                -4.589859              -4.644135  137.449302   \n",
      "977   125                -4.589857              -4.644132  137.449314   \n",
      "978   125                -4.589854              -4.644130  137.449325   \n",
      "979   125                -4.589854              -4.644129  137.449324   \n",
      "980   125                -4.589848              -4.644123  137.449335   \n",
      "981   125                -4.589842              -4.644117  137.449345   \n",
      "982   125                -4.589836              -4.644111  137.449356   \n",
      "983   125                -4.589830              -4.644105  137.449366   \n",
      "984   125                -4.589824              -4.644099  137.449377   \n",
      "985   125                -4.589817              -4.644093  137.449388   \n",
      "986   125                -4.589812              -4.644087  137.449399   \n",
      "987   125                -4.589804              -4.644079  137.449413   \n",
      "988   125                -4.589797              -4.644071  137.449427   \n",
      "989   125                -4.589789              -4.644063  137.449441   \n",
      "990   125                -4.589781              -4.644056  137.449455   \n",
      "991   125                -4.589773              -4.644047  137.449470   \n",
      "992   125                -4.589765              -4.644040  137.449484   \n",
      "993   125                -4.589765              -4.644040  137.449484   \n",
      "994   125                -4.589743              -4.644018  137.449458   \n",
      "995   125                -4.589722              -4.643996  137.449433   \n",
      "996   125                -4.589701              -4.643974  137.449407   \n",
      "997   125                -4.589679              -4.643953  137.449382   \n",
      "998   125                -4.589658              -4.643931  137.449356   \n",
      "999   125                -4.589637              -4.643910  137.449331   \n",
      "1000  125                -4.589637              -4.643910  137.449331   \n",
      "1001  125                -4.589637              -4.643910  137.449331   \n",
      "1002  125                -4.589637              -4.643910  137.449331   \n",
      "\n",
      "      elevation  \n",
      "972   -4520.001  \n",
      "973   -4519.995  \n",
      "974   -4519.985  \n",
      "975   -4520.049  \n",
      "976   -4520.074  \n",
      "977   -4520.129  \n",
      "978   -4520.179  \n",
      "979   -4520.158  \n",
      "980   -4520.195  \n",
      "981   -4520.236  \n",
      "982   -4520.270  \n",
      "983   -4520.330  \n",
      "984   -4520.422  \n",
      "985   -4520.552  \n",
      "986   -4520.665  \n",
      "987   -4520.764  \n",
      "988   -4520.840  \n",
      "989   -4520.901  \n",
      "990   -4520.963  \n",
      "991   -4521.016  \n",
      "992   -4521.069  \n",
      "993   -4521.069  \n",
      "994   -4521.107  \n",
      "995   -4521.039  \n",
      "996   -4520.958  \n",
      "997   -4520.923  \n",
      "998   -4520.928  \n",
      "999   -4520.890  \n",
      "1000  -4520.890  \n",
      "1001  -4520.890  \n",
      "1002  -4520.890  \n"
     ]
    }
   ],
   "source": [
    "def obtener_coordenadas(sol=None):\n",
    "    \"\"\"\n",
    "    Obtiene las coordenadas de todos los soles o de un sol específico.\n",
    "\n",
    "    Parámetros:\n",
    "    - sol: Número de sol (int) o None para obtener todas las coordenadas.\n",
    "\n",
    "    Retorna:\n",
    "    - DataFrame con latitud planetocéntrica, latitud planetodésica, longitud y elevación.\n",
    "    \"\"\"\n",
    "    columnas_interes = [\"sol\", \"planetocentric_latitude\", \"planetodetic_latitude\", \"longitude\", \"elevation\"]\n",
    "    \n",
    "    # Filtrar por el sol si se especifica, o devolver todos los datos\n",
    "    if sol is not None:\n",
    "        df_filtrado = df[df[\"sol\"] == sol][columnas_interes]\n",
    "    else:\n",
    "        df_filtrado = df[columnas_interes]\n",
    "\n",
    "    return df_filtrado\n",
    "\n",
    "# Obtener coordenadas de todos los soles\n",
    "coordenadas_todos = obtener_coordenadas()\n",
    "print(coordenadas_todos)\n",
    "\n",
    "# Obtener coordenadas de un sol específico (ejemplo: sol 125)\n",
    "coordenadas_sol_125 = obtener_coordenadas(125)\n",
    "print(coordenadas_sol_125)\n"
   ]
  },
  {
   "cell_type": "code",
   "execution_count": 4,
   "metadata": {},
   "outputs": [],
   "source": [
    "coordenadas_todos.to_csv(\"coordenadas_todos_los_soles.csv\", index=False)\n",
    "coordenadas_sol_125.to_csv(\"coordenadas_sol_125.csv\", index=False)"
   ]
  },
  {
   "cell_type": "code",
   "execution_count": 5,
   "metadata": {},
   "outputs": [
    {
     "name": "stderr",
     "output_type": "stream",
     "text": [
      "Matplotlib is building the font cache; this may take a moment.\n"
     ]
    },
    {
     "data": {
      "image/png": "[encoded data removed]",
      "text/plain": [
       "<Figure size 800x600 with 1 Axes>"
      ]
     },
     "metadata": {},
     "output_type": "display_data"
    }
   ],
   "source": [
    "import matplotlib.pyplot as plt\n",
    "\n",
    "plt.figure(figsize=(8,6))\n",
    "plt.scatter(df[\"longitude\"], df[\"planetocentric_latitude\"], marker=\"o\", s=10, label=\"Posiciones del Rover\")\n",
    "plt.xlabel(\"Longitud\")\n",
    "plt.ylabel(\"Latitud Planetocéntrica\")\n",
    "plt.title(\"Ubicaciones del Curiosity en el Gale Crater\")\n",
    "plt.legend()\n",
    "plt.show()\n"
   ]
  }
 ],
 "metadata": {
  "kernelspec": {
   "display_name": "Python 3",
   "language": "python",
   "name": "python3"
  },
  "language_info": {
   "codemirror_mode": {
    "name": "ipython",
    "version": 3
   },
   "file_extension": ".py",
   "mimetype": "text/x-python",
   "name": "python",
   "nbconvert_exporter": "python",
   "pygments_lexer": "ipython3",
   "version": "3.12.0"
  }
 },
 "nbformat": 4,
 "nbformat_minor": 2
}
